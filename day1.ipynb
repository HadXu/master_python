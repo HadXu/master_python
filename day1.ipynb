{
 "metadata": {
  "name": ""
 },
 "nbformat": 3,
 "nbformat_minor": 0,
 "worksheets": [
  {
   "cells": [
    {
     "cell_type": "code",
     "collapsed": false,
     "input": [
      "from __future__ import division"
     ],
     "language": "python",
     "metadata": {},
     "outputs": [],
     "prompt_number": 1
    },
    {
     "cell_type": "code",
     "collapsed": false,
     "input": [
      "5/2"
     ],
     "language": "python",
     "metadata": {},
     "outputs": [
      {
       "metadata": {},
       "output_type": "pyout",
       "prompt_number": 2,
       "text": [
        "2.5"
       ]
      }
     ],
     "prompt_number": 2
    },
    {
     "cell_type": "code",
     "collapsed": false,
     "input": [
      "5.0/2"
     ],
     "language": "python",
     "metadata": {},
     "outputs": [
      {
       "metadata": {},
       "output_type": "pyout",
       "prompt_number": 3,
       "text": [
        "2.5"
       ]
      }
     ],
     "prompt_number": 3
    },
    {
     "cell_type": "code",
     "collapsed": false,
     "input": [
      "5%2"
     ],
     "language": "python",
     "metadata": {},
     "outputs": [
      {
       "metadata": {},
       "output_type": "pyout",
       "prompt_number": 4,
       "text": [
        "1"
       ]
      }
     ],
     "prompt_number": 4
    },
    {
     "cell_type": "code",
     "collapsed": false,
     "input": [
      "divmod(5,2)"
     ],
     "language": "python",
     "metadata": {},
     "outputs": [
      {
       "metadata": {},
       "output_type": "pyout",
       "prompt_number": 5,
       "text": [
        "(2, 1)"
       ]
      }
     ],
     "prompt_number": 5
    },
    {
     "cell_type": "code",
     "collapsed": false,
     "input": [
      "import math"
     ],
     "language": "python",
     "metadata": {},
     "outputs": [],
     "prompt_number": 6
    },
    {
     "cell_type": "code",
     "collapsed": false,
     "input": [
      "math.pi"
     ],
     "language": "python",
     "metadata": {},
     "outputs": [
      {
       "metadata": {},
       "output_type": "pyout",
       "prompt_number": 7,
       "text": [
        "3.141592653589793"
       ]
      }
     ],
     "prompt_number": 7
    },
    {
     "cell_type": "code",
     "collapsed": false,
     "input": [
      "help(math.pow)"
     ],
     "language": "python",
     "metadata": {},
     "outputs": [
      {
       "output_type": "stream",
       "stream": "stdout",
       "text": [
        "Help on built-in function pow in module math:\n",
        "\n",
        "pow(...)\n",
        "    pow(x, y)\n",
        "    \n",
        "    Return x**y (x to the power of y).\n",
        "\n"
       ]
      }
     ],
     "prompt_number": 8
    },
    {
     "cell_type": "code",
     "collapsed": false,
     "input": [
      "\"what's your name\""
     ],
     "language": "python",
     "metadata": {},
     "outputs": [
      {
       "metadata": {},
       "output_type": "pyout",
       "prompt_number": 9,
       "text": [
        "\"what's your name\""
       ]
      }
     ],
     "prompt_number": 9
    },
    {
     "cell_type": "code",
     "collapsed": false,
     "input": [
      "lang = \"study python\""
     ],
     "language": "python",
     "metadata": {},
     "outputs": [],
     "prompt_number": "*"
    },
    {
     "cell_type": "code",
     "collapsed": false,
     "input": [
      "print lang"
     ],
     "language": "python",
     "metadata": {},
     "outputs": [],
     "prompt_number": "*"
    },
    {
     "cell_type": "code",
     "collapsed": false,
     "input": [
      "lang = \"study python\""
     ],
     "language": "python",
     "metadata": {},
     "outputs": [],
     "prompt_number": 1
    },
    {
     "cell_type": "code",
     "collapsed": false,
     "input": [
      "lang.index('p')"
     ],
     "language": "python",
     "metadata": {},
     "outputs": [
      {
       "metadata": {},
       "output_type": "pyout",
       "prompt_number": 2,
       "text": [
        "6"
       ]
      }
     ],
     "prompt_number": 2
    },
    {
     "cell_type": "code",
     "collapsed": false,
     "input": [
      "\u5b57\u7b26\u4e32\u662f\u4e00\u79cd\u5e8f\u5217\uff0c\u6240\u6709\u5e8f\u5217\u90fd\u6709\u5982\u4e0b\u57fa\u672c\u64cd\u4f5c\uff1a\n",
      "\n",
      "    len()\uff1a\u6c42\u5e8f\u5217\u957f\u5ea6\n",
      "    + \uff1a\u8fde\u63a52\u4e2a\u5e8f\u5217\n",
      "    * : \u91cd\u590d\u5e8f\u5217\u5143\u7d20\n",
      "    in :\u5224\u65ad\u5143\u7d20\u662f\u5426\u5b58\u5728\u4e8e\u5e8f\u5217\u4e2d\n",
      "    max() :\u8fd4\u56de\u6700\u5927\u503c\n",
      "    min() :\u8fd4\u56de\u6700\u5c0f\u503c\n",
      "    cmp(str1,str2) :\u6bd4\u8f832\u4e2a\u5e8f\u5217\u503c\u662f\u5426\u76f8\u540c\n",
      "\n"
     ],
     "language": "python",
     "metadata": {},
     "outputs": []
    },
    {
     "cell_type": "code",
     "collapsed": false,
     "input": [
      "print '-'*20"
     ],
     "language": "python",
     "metadata": {},
     "outputs": [
      {
       "output_type": "stream",
       "stream": "stdout",
       "text": [
        "--------------------\n"
       ]
      }
     ],
     "prompt_number": 3
    },
    {
     "cell_type": "code",
     "collapsed": false,
     "input": [
      "len('hello')"
     ],
     "language": "python",
     "metadata": {},
     "outputs": [
      {
       "metadata": {},
       "output_type": "pyout",
       "prompt_number": 4,
       "text": [
        "5"
       ]
      }
     ],
     "prompt_number": 4
    },
    {
     "cell_type": "code",
     "collapsed": false,
     "input": [
      "\u5360\u4f4d\u7b26 \t\u8bf4\u660e\n",
      "%s \t\u5b57\u7b26\u4e32(\u91c7\u7528str()\u7684\u663e\u793a)\n",
      "%r \t\u5b57\u7b26\u4e32(\u91c7\u7528repr()\u7684\u663e\u793a)\n",
      "%c \t\u5355\u4e2a\u5b57\u7b26\n",
      "%b \t\u4e8c\u8fdb\u5236\u6574\u6570\n",
      "%d \t\u5341\u8fdb\u5236\u6574\u6570\n",
      "%i \t\u5341\u8fdb\u5236\u6574\u6570\n",
      "%o \t\u516b\u8fdb\u5236\u6574\u6570\n",
      "%x \t\u5341\u516d\u8fdb\u5236\u6574\u6570\n",
      "%e \t\u6307\u6570 (\u57fa\u5e95\u5199\u4e3ae)\n",
      "%E \t\u6307\u6570 (\u57fa\u5e95\u5199\u4e3aE)\n",
      "%f \t\u6d6e\u70b9\u6570\n",
      "%F \t\u6d6e\u70b9\u6570\uff0c\u4e0e\u4e0a\u76f8\u540c\n",
      "%g \t\u6307\u6570(e)\ufffd\u6216\u6d6e\u70b9\u6570 (\u6839\u636e\u663e\u793a\u957f\u5ea6)\n",
      "%G \t\u6307\u6570(E)\u6216\u6d6e\u70b9\u6570 (\u6839\u636e\u663e\u793a\u957f\u5ea6)"
     ],
     "language": "python",
     "metadata": {},
     "outputs": []
    },
    {
     "cell_type": "code",
     "collapsed": false,
     "input": [
      "a = \"I LOVE PYTHON\""
     ],
     "language": "python",
     "metadata": {},
     "outputs": [],
     "prompt_number": 5
    },
    {
     "cell_type": "code",
     "collapsed": false,
     "input": [
      "a.split(' ')"
     ],
     "language": "python",
     "metadata": {},
     "outputs": [
      {
       "metadata": {},
       "output_type": "pyout",
       "prompt_number": 6,
       "text": [
        "['I', 'LOVE', 'PYTHON']"
       ]
      }
     ],
     "prompt_number": 6
    },
    {
     "cell_type": "code",
     "collapsed": false,
     "input": [
      "b=\" hello \" "
     ],
     "language": "python",
     "metadata": {},
     "outputs": [],
     "prompt_number": 7
    },
    {
     "cell_type": "code",
     "collapsed": false,
     "input": [
      "b.strip()"
     ],
     "language": "python",
     "metadata": {},
     "outputs": [
      {
       "metadata": {},
       "output_type": "pyout",
       "prompt_number": 8,
       "text": [
        "'hello'"
       ]
      }
     ],
     "prompt_number": 8
    },
    {
     "cell_type": "code",
     "collapsed": false,
     "input": [
      "\n",
      "    S.upper() #S\u4e2d\u7684\u5b57\u6bcd\u5927\u5199\n",
      "    S.lower() #S\u4e2d\u7684\u5b57\u6bcd\u5c0f\u5199\n",
      "    S.capitalize() #\u9996\u5b57\u6bcd\u5927\u5199\n",
      "    S.isupper() #S\u4e2d\u7684\u5b57\u6bcd\u662f\u5426\u5168\u662f\u5927\u5199\n",
      "    S.islower() #S\u4e2d\u7684\u5b57\u6bcd\u662f\u5426\u5168\u662f\u5c0f\u5199\n",
      "    S.istitle() #\u8fd9\u6837\u5c31\u628a\u6240\u6709\u5355\u8bcd\u7684\u7b2c\u4e00\u4e2a\u5b57\u6bcd\u8f6c\u5316\u4e3a\u5927\u5199\n"
     ],
     "language": "python",
     "metadata": {},
     "outputs": []
    },
    {
     "cell_type": "code",
     "collapsed": false,
     "input": [
      "b = 'www.itdiffer.com'"
     ],
     "language": "python",
     "metadata": {},
     "outputs": [],
     "prompt_number": 9
    },
    {
     "cell_type": "code",
     "collapsed": false,
     "input": [
      "c = b.split('.')"
     ],
     "language": "python",
     "metadata": {},
     "outputs": [],
     "prompt_number": 10
    },
    {
     "cell_type": "code",
     "collapsed": false,
     "input": [
      "c"
     ],
     "language": "python",
     "metadata": {},
     "outputs": [
      {
       "metadata": {},
       "output_type": "pyout",
       "prompt_number": 11,
       "text": [
        "['www', 'itdiffer', 'com']"
       ]
      }
     ],
     "prompt_number": 11
    },
    {
     "cell_type": "code",
     "collapsed": false,
     "input": [
      "\".\".join(c)"
     ],
     "language": "python",
     "metadata": {},
     "outputs": [
      {
       "metadata": {},
       "output_type": "pyout",
       "prompt_number": 12,
       "text": [
        "'www.itdiffer.com'"
       ]
      }
     ],
     "prompt_number": 12
    },
    {
     "cell_type": "code",
     "collapsed": false,
     "input": [
      "\"*\".join(c)"
     ],
     "language": "python",
     "metadata": {},
     "outputs": [
      {
       "metadata": {},
       "output_type": "pyout",
       "prompt_number": 13,
       "text": [
        "'www*itdiffer*com'"
       ]
      }
     ],
     "prompt_number": 13
    },
    {
     "cell_type": "code",
     "collapsed": false,
     "input": [
      "unicode_str = unicode('\u4e2d\u6587', encoding='utf-8')"
     ],
     "language": "python",
     "metadata": {},
     "outputs": [],
     "prompt_number": 14
    },
    {
     "cell_type": "code",
     "collapsed": false,
     "input": [
      "print unicode_str.encode('utf-8')"
     ],
     "language": "python",
     "metadata": {},
     "outputs": [
      {
       "output_type": "stream",
       "stream": "stdout",
       "text": [
        "\u4e2d\u6587\n"
       ]
      }
     ],
     "prompt_number": 16
    },
    {
     "cell_type": "code",
     "collapsed": false,
     "input": [
      "city_code = {\"suzhou\":\"0512\", \"tangshan\":\"0315\", \"hangzhou\":\"0571\"}"
     ],
     "language": "python",
     "metadata": {},
     "outputs": [],
     "prompt_number": 17
    },
    {
     "cell_type": "code",
     "collapsed": false,
     "input": [
      "\" Suzhou is a beautiful city, its area code is %(suzhou)s\" % city_code"
     ],
     "language": "python",
     "metadata": {},
     "outputs": [
      {
       "metadata": {},
       "output_type": "pyout",
       "prompt_number": 18,
       "text": [
        "' Suzhou is a beautiful city, its area code is 0512'"
       ]
      }
     ],
     "prompt_number": 18
    },
    {
     "cell_type": "code",
     "collapsed": false,
     "input": [
      "a_dict = {\"name\":\"qiwsir\", \"lang\":\"python\", \"email\":\"qiwsir@gmail.com\", \"website\":\"www.itdiffer.com\"}"
     ],
     "language": "python",
     "metadata": {},
     "outputs": [],
     "prompt_number": 19
    },
    {
     "cell_type": "code",
     "collapsed": false,
     "input": [
      "for k in a_dict.keys():\n",
      "    print k,a_dict[k]"
     ],
     "language": "python",
     "metadata": {},
     "outputs": [
      {
       "output_type": "stream",
       "stream": "stdout",
       "text": [
        " lang python\n",
        "website www.itdiffer.com\n",
        "name qiwsir\n",
        "email qiwsir@gmail.com\n"
       ]
      }
     ],
     "prompt_number": 21
    },
    {
     "cell_type": "code",
     "collapsed": false,
     "input": [
      "for k,v in a_dict.items():\n",
      "    print k,v"
     ],
     "language": "python",
     "metadata": {},
     "outputs": [
      {
       "output_type": "stream",
       "stream": "stdout",
       "text": [
        "lang python\n",
        "website www.itdiffer.com\n",
        "name qiwsir\n",
        "email qiwsir@gmail.com\n"
       ]
      }
     ],
     "prompt_number": 22
    },
    {
     "cell_type": "code",
     "collapsed": false,
     "input": [
      "for k,v in a_dict.iteritems():\n",
      "    print k,v"
     ],
     "language": "python",
     "metadata": {},
     "outputs": [
      {
       "output_type": "stream",
       "stream": "stdout",
       "text": [
        "lang python\n",
        "website www.itdiffer.com\n",
        "name qiwsir\n",
        "email qiwsir@gmail.com\n"
       ]
      }
     ],
     "prompt_number": 23
    },
    {
     "cell_type": "code",
     "collapsed": false,
     "input": [
      "a = [1,2,3,4,5]\n",
      "b = [9,8,7,6,5]"
     ],
     "language": "python",
     "metadata": {},
     "outputs": [],
     "prompt_number": 24
    },
    {
     "cell_type": "code",
     "collapsed": false,
     "input": [
      "c = []\n",
      "for i in range(len(a)):\n",
      "    c.append(a[i] + b[i])"
     ],
     "language": "python",
     "metadata": {},
     "outputs": [],
     "prompt_number": 26
    },
    {
     "cell_type": "code",
     "collapsed": false,
     "input": [
      "c"
     ],
     "language": "python",
     "metadata": {},
     "outputs": [
      {
       "metadata": {},
       "output_type": "pyout",
       "prompt_number": 27,
       "text": [
        "[10, 10, 10, 10, 10]"
       ]
      }
     ],
     "prompt_number": 27
    },
    {
     "cell_type": "code",
     "collapsed": false,
     "input": [
      "d = []\n",
      "for x,y in zip(a,b):\n",
      "    d.append(x+y)"
     ],
     "language": "python",
     "metadata": {},
     "outputs": [],
     "prompt_number": 28
    },
    {
     "cell_type": "code",
     "collapsed": false,
     "input": [
      "d"
     ],
     "language": "python",
     "metadata": {},
     "outputs": [
      {
       "metadata": {},
       "output_type": "pyout",
       "prompt_number": 29,
       "text": [
        "[10, 10, 10, 10, 10]"
       ]
      }
     ],
     "prompt_number": 29
    },
    {
     "cell_type": "code",
     "collapsed": false,
     "input": [
      "b = 'Do you love Canglaoshi? Canglaoshi is a good teacher.\"\uff0c\u8bf7\u5c06\"Canglaoshi'"
     ],
     "language": "python",
     "metadata": {},
     "outputs": [],
     "prompt_number": 30
    },
    {
     "cell_type": "code",
     "collapsed": false,
     "input": [
      "raw_list = b.split(' ')"
     ],
     "language": "python",
     "metadata": {},
     "outputs": [],
     "prompt_number": 31
    },
    {
     "cell_type": "code",
     "collapsed": false,
     "input": [
      "for i,string in enumerate(raw_list):\n",
      "    if string == 'Canglaoshi':\n",
      "        raw_list[i] = 'PHP'\n",
      "    "
     ],
     "language": "python",
     "metadata": {},
     "outputs": [],
     "prompt_number": 32
    },
    {
     "cell_type": "code",
     "collapsed": false,
     "input": [
      "raw_list"
     ],
     "language": "python",
     "metadata": {},
     "outputs": [
      {
       "metadata": {},
       "output_type": "pyout",
       "prompt_number": 33,
       "text": [
        "['Do',\n",
        " 'you',\n",
        " 'love',\n",
        " 'Canglaoshi?',\n",
        " 'PHP',\n",
        " 'is',\n",
        " 'a',\n",
        " 'good',\n",
        " 'teacher.\"\\xef\\xbc\\x8c\\xe8\\xaf\\xb7\\xe5\\xb0\\x86\"Canglaoshi']"
       ]
      }
     ],
     "prompt_number": 33
    },
    {
     "cell_type": "code",
     "collapsed": false,
     "input": [
      "'.'.join(raw_list)"
     ],
     "language": "python",
     "metadata": {},
     "outputs": [
      {
       "metadata": {},
       "output_type": "pyout",
       "prompt_number": 34,
       "text": [
        "'Do.you.love.Canglaoshi?.PHP.is.a.good.teacher.\"\\xef\\xbc\\x8c\\xe8\\xaf\\xb7\\xe5\\xb0\\x86\"Canglaoshi'"
       ]
      }
     ],
     "prompt_number": 34
    },
    {
     "cell_type": "code",
     "collapsed": false,
     "input": [
      "[x**2 for x in range(9)]"
     ],
     "language": "python",
     "metadata": {},
     "outputs": [
      {
       "metadata": {},
       "output_type": "pyout",
       "prompt_number": 35,
       "text": [
        "[0, 1, 4, 9, 16, 25, 36, 49, 64]"
       ]
      }
     ],
     "prompt_number": 35
    },
    {
     "cell_type": "code",
     "collapsed": false,
     "input": [
      "mybag = [' glass',' apple','green leaf '] "
     ],
     "language": "python",
     "metadata": {},
     "outputs": [],
     "prompt_number": 36
    },
    {
     "cell_type": "code",
     "collapsed": false,
     "input": [
      "[one.strip() for one in mybag]"
     ],
     "language": "python",
     "metadata": {},
     "outputs": [
      {
       "metadata": {},
       "output_type": "pyout",
       "prompt_number": 37,
       "text": [
        "['glass', 'apple', 'green leaf']"
       ]
      }
     ],
     "prompt_number": 37
    },
    {
     "cell_type": "code",
     "collapsed": false,
     "input": [
      "f = open('103.txt')"
     ],
     "language": "python",
     "metadata": {},
     "outputs": [],
     "prompt_number": 38
    },
    {
     "cell_type": "code",
     "collapsed": false,
     "input": [
      "for line in f:\n",
      "    print line"
     ],
     "language": "python",
     "metadata": {},
     "outputs": [
      {
       "output_type": "stream",
       "stream": "stdout",
       "text": [
        "learn python\n",
        "\n",
        "http://qiwsir.github.io\n",
        "\n",
        "qiwsir@gmail.com\n"
       ]
      }
     ],
     "prompt_number": 39
    },
    {
     "cell_type": "code",
     "collapsed": false,
     "input": [
      "for line in f:\n",
      "    print line"
     ],
     "language": "python",
     "metadata": {},
     "outputs": [],
     "prompt_number": 42
    },
    {
     "cell_type": "code",
     "collapsed": false,
     "input": [
      "f = open('103.txt')"
     ],
     "language": "python",
     "metadata": {},
     "outputs": [],
     "prompt_number": 43
    },
    {
     "cell_type": "code",
     "collapsed": false,
     "input": [
      "for line in f:\n",
      "    print line,"
     ],
     "language": "python",
     "metadata": {},
     "outputs": [
      {
       "output_type": "stream",
       "stream": "stdout",
       "text": [
        "learn python\n",
        "http://qiwsir.github.io\n",
        "qiwsir@gmail.com\n"
       ]
      }
     ],
     "prompt_number": 44
    },
    {
     "cell_type": "code",
     "collapsed": false,
     "input": [
      "\u6a21\u5f0f \t\u63cf\u8ff0\n",
      "r \t\u4ee5\u8bfb\u65b9\u5f0f\u6253\u5f00\u6587\u4ef6\uff0c\u53ef\u8bfb\u53d6\u6587\u4ef6\u4fe1\u606f\u3002\n",
      "w \t\u4ee5\u5199\u65b9\u5f0f\u6253\u5f00\u6587\u4ef6\uff0c\u53ef\u5411\u6587\u4ef6\u5199\u5165\u4fe1\u606f\u3002\u5982\u6587\u4ef6\u5b58\u5728\uff0c\u5219\u6e05\u7a7a\u8be5\u6587\u4ef6\uff0c\u518d\u5199\u5165\u65b0\u5185\u5bb9\n",
      "a \t\u4ee5\u8ffd\u52a0\u6a21\u5f0f\u6253\u5f00\u6587\u4ef6\uff08\u5373\u4e00\u6253\u5f00\u6587\u4ef6\uff0c\u6587\u4ef6\u6307\u9488\u81ea\u52a8\u79fb\u5230\u6587\u4ef6\u672b\u5c3e\uff09\uff0c\u5982\u679c\u6587\u4ef6\u4e0d\u5b58\u5728\u5219\u521b\u5efa\n",
      "r+ \t\u4ee5\u8bfb\u5199\u65b9\u5f0f\u6253\u5f00\u6587\u4ef6\uff0c\u53ef\u5bf9\u6587\u4ef6\u8fdb\u884c\u8bfb\u548c\u5199\u64cd\u4f5c\u3002\n",
      "w+ \t\u6d88\u9664\u6587\u4ef6\u5185\u5bb9\uff0c\u7136\u540e\u4ee5\u8bfb\u5199\u65b9\u5f0f\u6253\u5f00\u6587\u4ef6\u3002\n",
      "a+ \t\u4ee5\u8bfb\u5199\u65b9\u5f0f\u6253\u5f00\u6587\u4ef6\uff0c\u5e76\u628a\u6587\u4ef6\u6307\u9488\u79fb\u5230\u6587\u4ef6\u5c3e\u3002\n",
      "b \t\u4ee5\u4e8c\u8fdb\u5236\u6a21\u5f0f\u6253\u5f00\u6587\u4ef6\uff0c\u800c\u4e0d\u662f\u4ee5\u6587\u672c\u6a21\u5f0f\u3002\u8be5\u6a21\u5f0f\u53ea\u5bf9Windows\u6216Dos\u6709\u6548\uff0c\u7c7bUnix\u7684\u6587\u4ef6\u662f\u7528\u4e8c\u8fdb\u5236\u6a21\u5f0f\u8fdb\u884c\u64cd\u4f5c\u7684\u3002"
     ],
     "language": "python",
     "metadata": {},
     "outputs": []
    },
    {
     "cell_type": "code",
     "collapsed": false,
     "input": [
      "with open('103.txt','a') as f:\n",
      "    f.write('love')"
     ],
     "language": "python",
     "metadata": {},
     "outputs": [],
     "prompt_number": 46
    },
    {
     "cell_type": "code",
     "collapsed": false,
     "input": [
      "with open('103.txt','a') as f:\n",
      "    f.write('\\nlove')"
     ],
     "language": "python",
     "metadata": {},
     "outputs": [],
     "prompt_number": 53
    },
    {
     "cell_type": "code",
     "collapsed": false,
     "input": [
      "a = [1,2,3,4,5,6,7,8,9,0]"
     ],
     "language": "python",
     "metadata": {},
     "outputs": [],
     "prompt_number": 54
    },
    {
     "cell_type": "code",
     "collapsed": false,
     "input": [
      "a"
     ],
     "language": "python",
     "metadata": {},
     "outputs": [
      {
       "metadata": {},
       "output_type": "pyout",
       "prompt_number": 55,
       "text": [
        "[1, 2, 3, 4, 5, 6, 7, 8, 9, 0]"
       ]
      }
     ],
     "prompt_number": 55
    },
    {
     "cell_type": "code",
     "collapsed": false,
     "input": [
      "b = a.pop(0)"
     ],
     "language": "python",
     "metadata": {},
     "outputs": [],
     "prompt_number": 59
    },
    {
     "cell_type": "code",
     "collapsed": false,
     "input": [
      "b"
     ],
     "language": "python",
     "metadata": {},
     "outputs": [
      {
       "metadata": {},
       "output_type": "pyout",
       "prompt_number": 60,
       "text": [
        "1"
       ]
      }
     ],
     "prompt_number": 60
    },
    {
     "cell_type": "code",
     "collapsed": false,
     "input": [
      "a.append(b)"
     ],
     "language": "python",
     "metadata": {},
     "outputs": [],
     "prompt_number": 61
    },
    {
     "cell_type": "code",
     "collapsed": false,
     "input": [
      "a"
     ],
     "language": "python",
     "metadata": {},
     "outputs": [
      {
       "metadata": {},
       "output_type": "pyout",
       "prompt_number": 62,
       "text": [
        "[2, 3, 4, 5, 6, 7, 8, 9, 1]"
       ]
      }
     ],
     "prompt_number": 62
    },
    {
     "cell_type": "code",
     "collapsed": false,
     "input": [
      "import random"
     ],
     "language": "python",
     "metadata": {},
     "outputs": [],
     "prompt_number": 63
    },
    {
     "cell_type": "code",
     "collapsed": false,
     "input": [
      "a = [random.randint(0,100) for i in range(40)]"
     ],
     "language": "python",
     "metadata": {},
     "outputs": [],
     "prompt_number": 64
    },
    {
     "cell_type": "code",
     "collapsed": false,
     "input": [
      "average = sum(a) / 40.0"
     ],
     "language": "python",
     "metadata": {},
     "outputs": [],
     "prompt_number": 66
    },
    {
     "cell_type": "code",
     "collapsed": false,
     "input": [
      "average"
     ],
     "language": "python",
     "metadata": {},
     "outputs": [
      {
       "metadata": {},
       "output_type": "pyout",
       "prompt_number": 67,
       "text": [
        "50.125"
       ]
      }
     ],
     "prompt_number": 67
    },
    {
     "cell_type": "code",
     "collapsed": false,
     "input": [
      "a.sort()"
     ],
     "language": "python",
     "metadata": {},
     "outputs": [],
     "prompt_number": 68
    },
    {
     "cell_type": "code",
     "collapsed": false,
     "input": [
      "a"
     ],
     "language": "python",
     "metadata": {},
     "outputs": [
      {
       "metadata": {},
       "output_type": "pyout",
       "prompt_number": 69,
       "text": [
        "[3,\n",
        " 3,\n",
        " 4,\n",
        " 8,\n",
        " 11,\n",
        " 12,\n",
        " 13,\n",
        " 16,\n",
        " 18,\n",
        " 20,\n",
        " 21,\n",
        " 21,\n",
        " 30,\n",
        " 32,\n",
        " 34,\n",
        " 34,\n",
        " 37,\n",
        " 40,\n",
        " 41,\n",
        " 48,\n",
        " 51,\n",
        " 55,\n",
        " 60,\n",
        " 64,\n",
        " 65,\n",
        " 66,\n",
        " 66,\n",
        " 67,\n",
        " 75,\n",
        " 77,\n",
        " 84,\n",
        " 84,\n",
        " 84,\n",
        " 92,\n",
        " 92,\n",
        " 93,\n",
        " 94,\n",
        " 94,\n",
        " 96,\n",
        " 100]"
       ]
      }
     ],
     "prompt_number": 69
    },
    {
     "cell_type": "code",
     "collapsed": false,
     "input": [
      "a.sort(reverse=True)"
     ],
     "language": "python",
     "metadata": {},
     "outputs": [],
     "prompt_number": 70
    },
    {
     "cell_type": "code",
     "collapsed": false,
     "input": [
      "a"
     ],
     "language": "python",
     "metadata": {},
     "outputs": [
      {
       "metadata": {},
       "output_type": "pyout",
       "prompt_number": 71,
       "text": [
        "[100,\n",
        " 96,\n",
        " 94,\n",
        " 94,\n",
        " 93,\n",
        " 92,\n",
        " 92,\n",
        " 84,\n",
        " 84,\n",
        " 84,\n",
        " 77,\n",
        " 75,\n",
        " 67,\n",
        " 66,\n",
        " 66,\n",
        " 65,\n",
        " 64,\n",
        " 60,\n",
        " 55,\n",
        " 51,\n",
        " 48,\n",
        " 41,\n",
        " 40,\n",
        " 37,\n",
        " 34,\n",
        " 34,\n",
        " 32,\n",
        " 30,\n",
        " 21,\n",
        " 21,\n",
        " 20,\n",
        " 18,\n",
        " 16,\n",
        " 13,\n",
        " 12,\n",
        " 11,\n",
        " 8,\n",
        " 4,\n",
        " 3,\n",
        " 3]"
       ]
      }
     ],
     "prompt_number": 71
    },
    {
     "cell_type": "code",
     "collapsed": false,
     "input": [
      "numbers = range(-5,5)"
     ],
     "language": "python",
     "metadata": {},
     "outputs": [],
     "prompt_number": 72
    },
    {
     "cell_type": "code",
     "collapsed": false,
     "input": [
      "filter(lambda x:x>0,numbers)"
     ],
     "language": "python",
     "metadata": {},
     "outputs": [
      {
       "metadata": {},
       "output_type": "pyout",
       "prompt_number": 73,
       "text": [
        "[1, 2, 3, 4]"
       ]
      }
     ],
     "prompt_number": 73
    },
    {
     "cell_type": "code",
     "collapsed": false,
     "input": [
      "[x for x in numbers if x >0]"
     ],
     "language": "python",
     "metadata": {},
     "outputs": [
      {
       "metadata": {},
       "output_type": "pyout",
       "prompt_number": 74,
       "text": [
        "[1, 2, 3, 4]"
       ]
      }
     ],
     "prompt_number": 74
    },
    {
     "cell_type": "code",
     "collapsed": false,
     "input": [
      "import os"
     ],
     "language": "python",
     "metadata": {},
     "outputs": [],
     "prompt_number": 75
    },
    {
     "cell_type": "code",
     "collapsed": false,
     "input": [
      "os.rename('103.txt','130.txt')"
     ],
     "language": "python",
     "metadata": {},
     "outputs": [],
     "prompt_number": 76
    },
    {
     "cell_type": "code",
     "collapsed": false,
     "input": [
      "import webbrowser"
     ],
     "language": "python",
     "metadata": {},
     "outputs": [],
     "prompt_number": 77
    },
    {
     "cell_type": "code",
     "collapsed": false,
     "input": [
      "webbrowser.open(\"www.baidu.com\")"
     ],
     "language": "python",
     "metadata": {},
     "outputs": [
      {
       "metadata": {},
       "output_type": "pyout",
       "prompt_number": 78,
       "text": [
        "True"
       ]
      }
     ],
     "prompt_number": 78
    },
    {
     "cell_type": "code",
     "collapsed": false,
     "input": [
      "import heapq"
     ],
     "language": "python",
     "metadata": {},
     "outputs": [],
     "prompt_number": 79
    },
    {
     "cell_type": "code",
     "collapsed": false,
     "input": [
      "import calendar"
     ],
     "language": "python",
     "metadata": {},
     "outputs": [],
     "prompt_number": 80
    },
    {
     "cell_type": "code",
     "collapsed": false,
     "input": [
      "cal = calendar.month(2015,1)"
     ],
     "language": "python",
     "metadata": {},
     "outputs": [],
     "prompt_number": 81
    },
    {
     "cell_type": "code",
     "collapsed": false,
     "input": [
      "print cal"
     ],
     "language": "python",
     "metadata": {},
     "outputs": [
      {
       "output_type": "stream",
       "stream": "stdout",
       "text": [
        "    January 2015\n",
        "Mo Tu We Th Fr Sa Su\n",
        "          1  2  3  4\n",
        " 5  6  7  8  9 10 11\n",
        "12 13 14 15 16 17 18\n",
        "19 20 21 22 23 24 25\n",
        "26 27 28 29 30 31\n",
        "\n"
       ]
      }
     ],
     "prompt_number": 82
    },
    {
     "cell_type": "code",
     "collapsed": false,
     "input": [
      "calendar.isleap(2016)"
     ],
     "language": "python",
     "metadata": {},
     "outputs": [
      {
       "metadata": {},
       "output_type": "pyout",
       "prompt_number": 83,
       "text": [
        "True"
       ]
      }
     ],
     "prompt_number": 83
    },
    {
     "cell_type": "code",
     "collapsed": false,
     "input": [
      "import urllib"
     ],
     "language": "python",
     "metadata": {},
     "outputs": [],
     "prompt_number": 84
    },
    {
     "cell_type": "code",
     "collapsed": false,
     "input": [
      "itdiffer = urllib.urlopen('http://www.itdiffer.com')"
     ],
     "language": "python",
     "metadata": {},
     "outputs": [],
     "prompt_number": 86
    },
    {
     "cell_type": "code",
     "collapsed": false,
     "input": [
      "print itdiffer.read()"
     ],
     "language": "python",
     "metadata": {},
     "outputs": [
      {
       "output_type": "stream",
       "stream": "stdout",
       "text": [
        "<!DOCTYPE HTML>\r\n",
        "<html>\r\n",
        "\t<head>\r\n",
        "\t\t<title>I am Qiwsir</title>\r\n",
        "\t\t<meta http-equiv=\"content-type\" content=\"text/html; charset=utf-8\" />\r\n",
        "\t\t<meta name=\"description\" content=\"Life is short, I use Python.\" />\r\n",
        "\t\t<meta name=\"keywords\" content=\"qiwsir,\u8001\u9f50\" />\r\n",
        "\t\t<link href='http://fonts.useso.com/css?family=Open+Sans:300,400,600&subset=latin,latin-ext' rel='stylesheet'>\r\n",
        "\r\n",
        "\t\t<script src=\"js/jquery.min.js\"></script>\r\n",
        "\t\t<script src=\"js/config.js\"></script>\r\n",
        "\t\t<script src=\"js/skel.min.js\"></script>\r\n",
        "\t\t<noscript>\r\n",
        "\t\t\t<link rel=\"stylesheet\" href=\"css/skel-noscript.css\" />\r\n",
        "\t\t\t<link rel=\"stylesheet\" href=\"css/style.css\" />\r\n",
        "\t\t\t<link rel=\"stylesheet\" href=\"css/style-desktop.css\" />\r\n",
        "\t\t</noscript>\r\n",
        "\t\t<!--[if lte IE 9]><link rel=\"stylesheet\" href=\"css/ie9.css\" /><![endif]-->\r\n",
        "\t\t<!--[if lte IE 8]><script src=\"js/html5shiv.js\"></script><link rel=\"stylesheet\" href=\"css/ie8.css\" />\r\n",
        "\t\t<![endif]-->\r\n",
        "\t\t<!--[if lte IE 7]><link rel=\"stylesheet\" href=\"css/ie7.css\" /><![endif]-->\r\n",
        "\t</head>\r\n",
        "\t<body>\r\n",
        "\r\n",
        "\t\t<!-- Nav -->\r\n",
        "\t\t\t<nav id=\"nav\">\r\n",
        "\t\t\t\t<ul>\r\n",
        "\t\t\t\t\t<li><a href=\"#top\">Top</a></li>\r\n",
        "\t\t\t\t\t<li><a href=\"#work\">Code</a></li>\r\n",
        "\t\t\t\t\t<li><a href=\"#portfolio\">Work</a></li>\r\n",
        "\t\t\t\t\t<li><a href=\"#contact\">Contact</a></li>\r\n",
        "\t\t\t\t</ul>\r\n",
        "\t\t\t</nav>\r\n",
        "\r\n",
        "\t\t<!-- Home -->\r\n",
        "\t\t\t<div class=\"wrapper wrapper-style1 wrapper-first\">\r\n",
        "\t\t\t\t<article class=\"container\" id=\"top\">\r\n",
        "\t\t\t\t\t<div class=\"row\">\r\n",
        "\t\t\t\t\t\t<div class=\"4u\">\r\n",
        "\t\t\t\t\t\t\t<span class=\"me image image-full\"><img src=\"images/me.jpg\" alt=\"\" /></span>\r\n",
        "\t\t\t\t\t\t</div>\r\n",
        "\t\t\t\t\t\t<div class=\"8u\">\r\n",
        "\t\t\t\t\t\t\t<header>\r\n",
        "\t\t\t\t\t\t\t\t<h1>Hi. \u6211\u662f<strong>\u8001\u9f50</strong>.</h1>\r\n",
        "\t\t\t\t\t\t\t</header>\r\n",
        "\t\t\t\t\t\t\t<p>\u6b22\u8fce\u9605\u8bfb<strong><a href=\"https://github.com/qiwsir/StarterLearningPython/blob/master/index.md\" target=\"_blank\">\u300a\u96f6\u57fa\u7840\u5b66python\uff08\u7b2c\u4e8c\u7248\uff09\u300b</strong></a>\u5728\u7ebf\u7248<br>\u672c\u7248\u6559\u7a0b\u8ba9\u5b66\u4e60\u8005\u5b9e\u73b0\u4ece\u5c0f\u5de5\u5230\u4e13\u5bb6\u7684\u98de\u8dc3\u3002<br><strong>Learning Python: from Beginner to Master. </strong></p>\r\n",
        "                            <p>\u6b63\u5728\u63a8\u51fa<a href=\"https://github.com/qiwsir/ApproachPython\" target=\"_blank\">\u300aPython\u4ee3\u7801\u8d4f\u6790\u300b</a>\u65e8\u5728\u5b66\u4e60\u4ed6\u5c71\u4e4b\u7389\u3002</p>\r\n",
        "                            <!--a href=\"#work\" class=\"button button-big\">Learn about what I do</a-->\r\n",
        "\t\t\t\t\t\t</div>\r\n",
        "\t\t\t\t\t</div>\r\n",
        "\t\t\t\t</article>\r\n",
        "\t\t\t</div>\r\n",
        "\r\n",
        "\t\t<!-- Work -->\r\n",
        "\t\t\t<div class=\"wrapper wrapper-style2\">\r\n",
        "\t\t\t\t<article id=\"work\">\r\n",
        "\t\t\t\t\t<header>\r\n",
        "\t\t\t\t\t\t<h2>I like programming.</h2>\r\n",
        "\t\t\t\t\t\t<span>Life is short, I use Python.</span>\r\n",
        "\t\t\t\t\t</header>\r\n",
        "\t\t\t\t\t<div class=\"container\">\r\n",
        "\t\t\t\t\t\t<div class=\"row\">\r\n",
        "\t\t\t\t\t\t\t<div class=\"4u\">\r\n",
        "\t\t\t\t\t\t\t\t<section class=\"box box-style1\">\r\n",
        "\t\t\t\t\t\t\t\t\t<!--span class=\"icon featured-icon icon-comments-alt\"></span-->\r\n",
        "\t\t\t\t\t\t\t\t\t<span class=\"icon featured-icon icon-laptop\"></span>\r\n",
        "\t\t\t\t\t\t\t\t\t<h3>Python</h3>\r\n",
        "\t\t\t\t\t\t\t\t\t<p>\u7528Python\u505a\u670d\u52a1\u5668\u3001\u5ba2\u6237\u7aef\u7b49\u7a0b\u5e8f\u7684\u5f00\u53d1\uff0c\u7814\u7a76\u7b97\u6cd5\u548c\u5927\u89c4\u6a21\u7684\u6570\u636e\u5904\u7406\u3002</p>\r\n",
        "\t\t\t\t\t\t\t\t</section>\r\n",
        "\t\t\t\t\t\t\t</div>\r\n",
        "\t\t\t\t\t\t\t<div class=\"4u\">\r\n",
        "\t\t\t\t\t\t\t\t<section class=\"box box-style1\">\r\n",
        "\t\t\t\t\t\t\t\t\t<span class=\"icon featured-icon icon-file-alt\"></span>\r\n",
        "\t\t\t\t\t\t\t\t\t<h3>Vim</h3>\r\n",
        "\t\t\t\t\t\t\t\t\t<p>\u8fd9\u662f\u6211\u7f16\u5199\u7a0b\u5e8f\u7684\u5de5\u5177\uff0c\u56e0\u4e3a\u5de5\u4f5c\u65f6\u624b\u53ef\u4ee5\u4e0d\u79bb\u5f00\u952e\u76d8\u3002</p>\r\n",
        "\t\t\t\t\t\t\t\t</section>\r\n",
        "\t\t\t\t\t\t\t</div>\r\n",
        "\t\t\t\t\t\t\t<div class=\"4u\">\r\n",
        "\t\t\t\t\t\t\t\t<section class=\"box box-style1\">\r\n",
        "\t\t\t\t\t\t\t\t\t<span class=\"icon featured-icon icon-thumbs-up\"></span>\r\n",
        "\t\t\t\t\t\t\t\t\t<h3>Ubuntu</h3>\r\n",
        "\t\t\t\t\t\t\t\t\t<p>\u6240\u6709\u4ee3\u7801\u90fd\u662f\u5728\u8fd9\u4e2a\u64cd\u4f5c\u7cfb\u7edf\u4e0a\u6572\u6253\u51fa\u6765\u7684\uff0c\u559c\u6b22\u5b83\u662f\u56e0\u4e3a\u5b83\u662fUbuntu\u3002</p>\r\n",
        "\t\t\t\t\t\t\t\t</section>\r\n",
        "\t\t\t\t\t\t\t</div>\r\n",
        "\t\t\t\t\t\t</div>\r\n",
        "\t\t\t\t\t</div>\r\n",
        "\t\t\t\t\t<footer>\r\n",
        "\t\t\t\t\t\t<p>\u662fGoogle\u6280\u672f\u7684\u7231\u597d\u8005\uff0c\u559c\u6b22\u53c2\u52a0\u5404\u79cd\u6280\u672f\u4ea4\u6d41\u6d3b\u52a8\u3002</p>\r\n",
        "\t\t\t\t\t\t<a href=\"#portfolio\" class=\"button button-big\">See some of my recent work</a>\r\n",
        "\t\t\t\t\t</footer>\r\n",
        "\t\t\t\t</article>\r\n",
        "\t\t\t</div>\r\n",
        "\r\n",
        "\t\t<!-- Portfolio -->\r\n",
        "\t\t\t<div class=\"wrapper wrapper-style3\">\r\n",
        "\t\t\t\t<article id=\"portfolio\">\r\n",
        "\t\t\t\t\t<header>\r\n",
        "\t\t\t\t\t\t<h2>Work with God</h2>\r\n",
        "\t\t\t\t\t\t<span>We work with God to build Christ's Kingdom in the sphere of work and business.</span>\r\n",
        "\t\t\t\t\t</header>\r\n",
        "\t\t\t\t\t<div class=\"container\">\r\n",
        "\t\t\t\t\t\t<div class=\"row\">\r\n",
        "\t\t\t\t\t\t\t<div class=\"12u\">\r\n",
        "\t\t\t\t\t\t\t</div>\r\n",
        "\t\t\t\t\t\t</div>\r\n",
        "\t\t\t\t\t\t<div class=\"row\">\r\n",
        "\t\t\t\t\t\t\t<div class=\"4u\">\r\n",
        "\t\t\t\t\t\t\t\t<article class=\"box box-style2\">\r\n",
        "\t\t\t\t\t\t\t\t\t<a href=\"https://github.com/qiwsir/StarterLearningPython/blob/master/index.md\" target=\"_blank\" class=\"image image-full\"><img src=\"images/portfolio01.jpg\" alt=\"\" /></a>\r\n",
        "\t\t\t\t\t\t\t\t\t<h3><a href=\"https://github.com/qiwsir/StarterLearningPython/blob/master/index.md\" target=\"_blank\">\u96f6\u57fa\u7840\u5b66python</a></h3>\r\n",
        "\t\t\t\t\t\t\t\t\t<p>from Starter to Master.</p>\r\n",
        "\t\t\t\t\t\t\t\t</article>\r\n",
        "\t\t\t\t\t\t\t</div>\r\n",
        "\t\t\t\t\t\t\t<div class=\"4u\">\r\n",
        "\t\t\t\t\t\t\t\t<article class=\"box box-style2\">\r\n",
        "\t\t\t\t\t\t\t\t\t<a href=\"https://github.com/qiwsir/algorithm/blob/master/README.md\" target=\"_blank\" class=\"image image-full\"><img src=\"images/portfolio02.jpg\" alt=\"\" /></a>\r\n",
        "\t\t\t\t\t\t\t\t\t<h3><a href=\"https://github.com/qiwsir/algorithm/blob/master/README.md\" target=\"_blank\">Python and Algorithm</a></h3>\r\n",
        "\t\t\t\t\t\t\t\t\t<p>\u5404\u79cd\u7b97\u6cd5\u7684Python\u5b9e\u73b0\u65b9\u6848</p>\r\n",
        "\t\t\t\t\t\t\t\t</article>\r\n",
        "\t\t\t\t\t\t\t</div>\r\n",
        "\t\t\t\t\t\t\t<div class=\"4u\">\r\n",
        "\t\t\t\t\t\t\t\t<article class=\"box box-style2\">\r\n",
        "\t\t\t\t\t\t\t\t\t<a href=\"https://github.com/qiwsir/BitJSCode\" target=\"_blank\" class=\"image image-full\"><img src=\"images/portfolio03.jpg\" alt=\"\" /></a>\r\n",
        "\t\t\t\t\t\t\t\t\t<h3><a href=\"https://github.com/qiwsir/BitJSCode\" target=\"_blank\">HTML+CSS+JS</a></h3>\r\n",
        "\t\t\t\t\t\t\t\t\t<p>\u4e0d\u8981\u5c0f\u770b\u524d\u7aef\uff0c\u4e5f\u9887\u6709\u6280\u672f\u542b\u91cf</p>\r\n",
        "\t\t\t\t\t\t\t\t</article>\r\n",
        "\t\t\t\t\t\t\t</div>\r\n",
        "\t\t\t\t\t\t</div>\r\n",
        "\t\t\t\t\t\t<div class=\"row\">\r\n",
        "\t\t\t\t\t\t\t<div class=\"4u\">\r\n",
        "\t\t\t\t\t\t\t\t<article class=\"box box-style2\">\r\n",
        "\t\t\t\t\t\t\t\t\t<a href=\"https://github.com/qiwsir/ITArticles\" target=\"_blank\" class=\"image image-full\"><img src=\"images/portfolio04.jpg\" alt=\"\" /></a>\r\n",
        "\t\t\t\t\t\t\t\t\t<h3><a href=\"https://github.com/qiwsir/ITArticles\" target=\"_blank\">\u8d44\u6599\u5e93</a></h3>\r\n",
        "\t\t\t\t\t\t\t\t\t<p>\u6c47\u96c6\u591a\u65b9\u9762\u7684\u6280\u672f\u8d44\u6599</p>\r\n",
        "\t\t\t\t\t\t\t\t</article>\r\n",
        "\t\t\t\t\t\t\t</div>\r\n",
        "\t\t\t\t\t\t\t<div class=\"4u\">\r\n",
        "\t\t\t\t\t\t\t\t<article class=\"box box-style2\">\r\n",
        "\t\t\t\t\t\t\t\t\t<a href=\"https://github.com/qiwsir/BitPythonCode\" target=\"_blank\" class=\"image image-full\"><img src=\"images/portfolio05.jpg\" alt=\"\" /></a>\r\n",
        "\t\t\t\t\t\t\t\t\t<h3><a href=\"https://github.com/qiwsir/BitPythonCode\" target=\"_blank\">BitPythonCode</a></h3>\r\n",
        "\t\t\t\t\t\t\t\t\t<p>\u6240\u79ef\u7d2f\u7684Python\u4ee3\u7801\uff0c\u4f9b\u5f00\u53d1\u9009\u7528</p>\r\n",
        "\t\t\t\t\t\t\t\t</article>\r\n",
        "\t\t\t\t\t\t\t</div>\r\n",
        "\t\t\t\t\t\t\t<div class=\"4u\">\r\n",
        "\t\t\t\t\t\t\t\t<article class=\"box box-style2\">\r\n",
        "\t\t\t\t\t\t\t\t\t<a href=\"https://github.com/qiwsir/TornadoWheel\" target=\"_blank\" class=\"image image-full\"><img src=\"images/portfolio06.jpg\" alt=\"\" /></a>\r\n",
        "\t\t\t\t\t\t\t\t\t<h3><a href=\"https://github.com/qiwsir/TornadoWheel\" target=\"_blank\">TornadoWheel</a></h3>\r\n",
        "\t\t\t\t\t\t\t\t\t<p>Tornado\u6846\u67b6\u7684\u5de5\u7a0b\u9879\u76ee\u67b6\u6784</p>\r\n",
        "\t\t\t\t\t\t\t\t</article>\r\n",
        "\t\t\t\t\t\t\t</div>\r\n",
        "\t\t\t\t\t\t</div>\r\n",
        "\t\t\t\t\t</div>\r\n",
        "\t\t\t\t\t<footer>\r\n",
        "\t\t\t\t\t\t<p>\u5230GitHub\u627e\u6211(qiwsir)\uff0cPlease Follow me. \u6709\u66f4\u591a\u7cbe\u5f69\u3002</p>\r\n",
        "\t\t\t\t\t\t<a href=\"#contact\" class=\"button button-big\">Get in touch with me</a>\r\n",
        "\t\t\t\t\t</footer>\r\n",
        "\t\t\t\t</article>\r\n",
        "\t\t\t</div>\r\n",
        "\r\n",
        "\t\t<!-- Contact -->\r\n",
        "\t\t\t<div class=\"wrapper wrapper-style4\">\r\n",
        "\t\t\t\t<article id=\"contact\">\r\n",
        "\t\t\t\t\t<header>\r\n",
        "\t\t\t\t\t\t<h2>Want to hire me? Get in touch!</h2>\r\n",
        "\t\t\t\t\t\t<span>\u6211\u5728\u82cf\u5dde</br>\u613f\u610f\u548c\u6765\u81ea\u5404\u65b9\u7684\u670b\u53cb\u8ba8\u8bba\u6280\u672f\u95ee\u9898\uff0c\u5e76\u80fd\u63d0\u4f9b\u76f8\u5173\u6280\u672f\u670d\u52a1.</span>\r\n",
        "\t\t\t\t\t</header>\r\n",
        "\t\t\t\t\t<div>\r\n",
        "\t\t\t\t\t\t<div class=\"row\">\r\n",
        "\t\t\t\t\t\t\t<div class=\"12u\">\r\n",
        "\t\t\t\t\t\t\t\t<p>City: Suzhou China<br/>\r\n",
        "                                E-mail: qiwsir(at)gmail.com</br>\r\n",
        "\t\t\t\t\t\t\t\tQQ: 26066913</br>\r\n",
        "\t\t\t\t\t\t\t\tMobile Phone: 186 0512 8720</br>\r\n",
        "\t\t\t\t\t\t\t\tWeibo: \u8001\u9f50Py</p>\r\n",
        "\t\t\t\t\t\t\t\t<p>\u6280\u672f\u4ea4\u6d41QQ\u7fa4: 26913719</p>\r\n",
        "\t\t\t\t\t\t\t\t\r\n",
        "\t\t\t\t\t\t\t\t<!--form method=\"post\" action=\"#\">\r\n",
        "\t\t\t\t\t\t\t\t\t<div>\r\n",
        "\t\t\t\t\t\t\t\t\t\t<div class=\"row half\">\r\n",
        "\t\t\t\t\t\t\t\t\t\t\t<div class=\"6u\">\r\n",
        "\t\t\t\t\t\t\t\t\t\t\t\t<input type=\"text\" name=\"name\" id=\"name\" placeholder=\"Name\" />\r\n",
        "\t\t\t\t\t\t\t\t\t\t\t\r\n",
        "\t\t\t\t\t\t\t\t\t\t\t</div>\r\n",
        "\t\t\t\t\t\t\t\t\t\t\t<div class=\"6u\">\r\n",
        "\t\t\t\t\t\t\t\t\t\t\t\t<input type=\"text\" name=\"email\" id=\"email\" placeholder=\"Email\" />\r\n",
        "\t\t\t\t\t\t\t\t\t\t\t\t\r\n",
        "\t\t\t\t\t\t\t\t\t\t\t</div>\r\n",
        "\t\t\t\t\t\t\t\t\t\t</div>\r\n",
        "\t\t\t\t\t\t\t\t\t\t<div class=\"row half\">\r\n",
        "\t\t\t\t\t\t\t\t\t\t\t<div class=\"12u\">\r\n",
        "\t\t\t\t\t\t\t\t\t\t\t\t<input type=\"text\" name=\"subject\" id=\"subject\" placeholder=\"Subject\" />\r\n",
        "\t\t\t\t\t\t\t\t\t\t\t\r\n",
        "\t\t\t\t\t\t\t\t\t\t\t</div>\r\n",
        "\t\t\t\t\t\t\t\t\t\t</div>\r\n",
        "\t\t\t\t\t\t\t\t\t\t<div class=\"row half\">\r\n",
        "\t\t\t\t\t\t\t\t\t\t\t<div class=\"12u\">\r\n",
        "\t\t\t\t\t\t\t\t\t\t\t\t<textarea name=\"message\" id=\"message\" placeholder=\"Message\"></textarea>\r\n",
        "\t\t\t\t\t\t\t\t\t\t\t\t\r\n",
        "\t\t\t\t\t\t\t\t\t\t\t</div>\r\n",
        "\t\t\t\t\t\t\t\t\t\t</div>\r\n",
        "\t\t\t\t\t\t\t\t\t\t<div class=\"row\">\r\n",
        "\t\t\t\t\t\t\t\t\t\t\t<div class=\"12u\">\r\n",
        "\t\t\t\t\t\t\t\t\t\t\t\t<a href=\"#\" class=\"button form-button-submit\">Send Message</a>\r\n",
        "\t\t\t\t\t\t\t\t\t\t\t\t<a href=\"#\" class=\"button button-alt form-button-reset\">Clear Form</a>\r\n",
        "\t\t\t\t\t\t\t\t\t\t\t</div>\r\n",
        "\t\t\t\t\t\t\t\t\t\t</div>\r\n",
        "\t\t\t\t\t\t\t\t\t</div>\r\n",
        "\t\t\t\t\t\t\t\t</form-->\r\n",
        "\t\t\t\t\t\t\t</div>\r\n",
        "\t\t\t\t\t\t</div>\r\n",
        "\t\t\t\t\t\t<div class=\"row row-special\">\r\n",
        "\t\t\t\t\t\t\t<div class=\"12u\">\r\n",
        "\t\t\t\t\t\t\t\t<h3>Find me on ...</h3>\r\n",
        "\t\t\t\t\t\t\t\t<ul class=\"social\">\r\n",
        "\t\t\t\t\t\t\t\t\t<li class=\"twitter\"><a href=\"https://twitter.com/kivi_chee\" target=\"_blank\" class=\"icon icon-twitter\"><span>Twitter</span></a></li>\r\n",
        "\t\t\t\t\t\t\t\t\t<li class=\"facebook\"><a href=\"https://www.facebook.com/kivi.chee\" target=\"_blank\" class=\"icon icon-facebook\"><span>Facebook</span></a></li>\r\n",
        "\t\t\t\t\t\t\t\t\t<!--li class=\"dribbble\"><a href=\"http://sc.chinaz.com\" class=\"icon icon-dribbble\"><span>Dribbble</span></a></li-->\r\n",
        "\t\t\t\t\t\t\t\t\t<!--li class=\"linkedin\"><a href=\"#\" class=\"icon icon-linkedin\"><span>LinkedIn</span></a></li-->\r\n",
        "\t\t\t\t\t\t\t\t\t<!--li class=\"tumblr\"><a href=\"#\" class=\"fa fa-weibo\"\"><span>Tumblr</span></a></li-->\r\n",
        "\t\t\t\t\t\t\t\t\t<li class=\"googleplus\"><a href=\"https://plus.google.com/+weiqi_suzhou/\" target=\"_blank\" class=\"icon icon-google-plus\"><span>Google+</span></a></li>\r\n",
        "\t\t\t\t\t\t\t\t\t<li class=\"github\"><a href=\"https://github.com/qiwsir\" target=\"_blank\" class=\"icon icon-github\"><span>Github</span></a></li>\r\n",
        "\t\t\t\t\t\t\t\t\t<!--\r\n",
        "\t\t\t\t\t\t\t\t\t<li class=\"rss\"><a href=\"#\" class=\"icon icon-rss\"><span>RSS</span></a></li>\r\n",
        "\t\t\t\t\t\t\t\t\t<li class=\"instagram\"><a href=\"#\" class=\"icon icon-instagram\"><span>Instagram</span></a></li>\r\n",
        "\t\t\t\t\t\t\t\t\t<li class=\"foursquare\"><a href=\"#\" class=\"icon icon-foursquare\"><span>Foursquare</span></a></li>\r\n",
        "\t\t\t\t\t\t\t\t\t<li class=\"skype\"><a href=\"#\" class=\"icon icon-skype\"><span>Skype</span></a></li>\r\n",
        "\t\t\t\t\t\t\t\t\t<li class=\"soundcloud\"><a href=\"#\" class=\"icon icon-soundcloud\"><span>Soundcloud</span></a></li>\r\n",
        "\t\t\t\t\t\t\t\t\t<li class=\"youtube\"><a href=\"#\" class=\"icon icon-youtube\"><span>YouTube</span></a></li>\r\n",
        "\t\t\t\t\t\t\t\t\t<li class=\"blogger\"><a href=\"#\" class=\"icon icon-blogger\"><span>Blogger</span></a></li>\r\n",
        "\t\t\t\t\t\t\t\t\t<li class=\"flickr\"><a href=\"#\" class=\"icon icon-flickr\"><span>Flickr</span></a></li>\r\n",
        "\t\t\t\t\t\t\t\t\t<li class=\"vimeo\"><a href=\"#\" class=\"icon icon-vimeo\"><span>Vimeo</span></a></li>\r\n",
        "\t\t\t\t\t\t\t\t\t-->\r\n",
        "\t\t\t\t\t\t\t\t</ul>\r\n",
        "\t\t\t\t\t\t\t</div>\r\n",
        "\t\t\t\t\t\t</div>\r\n",
        "\t\t\t\t\t</div>\r\n",
        "\t\t\t\t\t<footer>\r\n",
        "\t\t\t\t\t\t<p id=\"copyright\">\r\n",
        "\t\t\t\t\t\t\t&copy; Copyright &copy; every day.Qiwsir All rights reserved.</a>\r\n",
        "\t\t\t\t\t\t</p>\r\n",
        "\t\t\t\t\t</footer>\r\n",
        "\t\t\t\t</article>\r\n",
        "\t\t\t</div>\r\n",
        "\r\n",
        "\r\n",
        "\t<!--div style=\"display:none\"><script src='http://v7.cnzz.com/stat.php?id=155540&web_id=155540' language='JavaScript' charset='gb2312'></script></div-->\r\n",
        "</body>\r\n",
        "</html>\r\n",
        "\n"
       ]
      }
     ],
     "prompt_number": 87
    },
    {
     "cell_type": "code",
     "collapsed": false,
     "input": [
      "import pickle"
     ],
     "language": "python",
     "metadata": {},
     "outputs": [],
     "prompt_number": 88
    },
    {
     "cell_type": "code",
     "collapsed": false,
     "input": [
      "integers = [1,2,3,4,5]"
     ],
     "language": "python",
     "metadata": {},
     "outputs": [],
     "prompt_number": 89
    },
    {
     "cell_type": "code",
     "collapsed": false,
     "input": [
      "f = open('11.dat','wb')"
     ],
     "language": "python",
     "metadata": {},
     "outputs": [],
     "prompt_number": 90
    },
    {
     "cell_type": "code",
     "collapsed": false,
     "input": [
      "pickle.dump(integers,f)"
     ],
     "language": "python",
     "metadata": {},
     "outputs": [],
     "prompt_number": 91
    },
    {
     "cell_type": "code",
     "collapsed": false,
     "input": [
      "f.close()"
     ],
     "language": "python",
     "metadata": {},
     "outputs": [],
     "prompt_number": 92
    },
    {
     "cell_type": "code",
     "collapsed": false,
     "input": [
      "integers = pickle.load(open(\"11.dat\", \"rb\"))"
     ],
     "language": "python",
     "metadata": {},
     "outputs": [],
     "prompt_number": 93
    },
    {
     "cell_type": "code",
     "collapsed": false,
     "input": [
      "integers"
     ],
     "language": "python",
     "metadata": {},
     "outputs": [
      {
       "metadata": {},
       "output_type": "pyout",
       "prompt_number": 94,
       "text": [
        "[1, 2, 3, 4, 5]"
       ]
      }
     ],
     "prompt_number": 94
    },
    {
     "cell_type": "code",
     "collapsed": false,
     "input": [
      "import sqlite3"
     ],
     "language": "python",
     "metadata": {},
     "outputs": [],
     "prompt_number": 95
    },
    {
     "cell_type": "code",
     "collapsed": false,
     "input": [
      "conn = sqlite3.connect('23301.db')"
     ],
     "language": "python",
     "metadata": {},
     "outputs": [],
     "prompt_number": 96
    },
    {
     "cell_type": "code",
     "collapsed": false,
     "input": [
      "cur = conn.cursor()"
     ],
     "language": "python",
     "metadata": {},
     "outputs": [],
     "prompt_number": 97
    },
    {
     "cell_type": "code",
     "collapsed": false,
     "input": [
      "create_table = \"create table books (title text, author text, lang text) \"\n",
      "cur.execute(create_table)"
     ],
     "language": "python",
     "metadata": {},
     "outputs": [
      {
       "ename": "OperationalError",
       "evalue": "table books already exists",
       "output_type": "pyerr",
       "traceback": [
        "\u001b[1;31m---------------------------------------------------------------------------\u001b[0m\n\u001b[1;31mOperationalError\u001b[0m                          Traceback (most recent call last)",
        "\u001b[1;32m<ipython-input-98-c1e82541d968>\u001b[0m in \u001b[0;36m<module>\u001b[1;34m()\u001b[0m\n\u001b[0;32m      1\u001b[0m \u001b[0mcreate_table\u001b[0m \u001b[1;33m=\u001b[0m \u001b[1;34m\"create table books (title text, author text, lang text) \"\u001b[0m\u001b[1;33m\u001b[0m\u001b[0m\n\u001b[1;32m----> 2\u001b[1;33m \u001b[0mcur\u001b[0m\u001b[1;33m.\u001b[0m\u001b[0mexecute\u001b[0m\u001b[1;33m(\u001b[0m\u001b[0mcreate_table\u001b[0m\u001b[1;33m)\u001b[0m\u001b[1;33m\u001b[0m\u001b[0m\n\u001b[0m",
        "\u001b[1;31mOperationalError\u001b[0m: table books already exists"
       ]
      }
     ],
     "prompt_number": 98
    },
    {
     "cell_type": "code",
     "collapsed": false,
     "input": [
      "cur.execute('select * from books')"
     ],
     "language": "python",
     "metadata": {},
     "outputs": [
      {
       "metadata": {},
       "output_type": "pyout",
       "prompt_number": 99,
       "text": [
        "<sqlite3.Cursor at 0x4b5fab0>"
       ]
      }
     ],
     "prompt_number": 99
    },
    {
     "cell_type": "code",
     "collapsed": false,
     "input": [
      "print cur.fetchall()"
     ],
     "language": "python",
     "metadata": {},
     "outputs": [
      {
       "output_type": "stream",
       "stream": "stdout",
       "text": [
        "[(u'from beginner to master', u'laoqi', u'python'), (u'physics', u'first', u'c')]\n"
       ]
      }
     ],
     "prompt_number": 100
    },
    {
     "cell_type": "code",
     "collapsed": false,
     "input": [],
     "language": "python",
     "metadata": {},
     "outputs": []
    }
   ],
   "metadata": {}
  }
 ]
}