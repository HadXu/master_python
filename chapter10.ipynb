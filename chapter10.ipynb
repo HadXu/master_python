{
 "cells": [
  {
   "cell_type": "markdown",
   "metadata": {},
   "source": [
    "# 第十章：模块与包"
   ]
  },
  {
   "cell_type": "markdown",
   "metadata": {},
   "source": [
    "## 10.1 构建一个模块的层级包"
   ]
  },
  {
   "cell_type": "raw",
   "metadata": {},
   "source": [
    "封装成包是很简单的。在文件系统上组织你的代码，并确保每个目录都定义了一\n",
    "个init .py 文件。"
   ]
  },
  {
   "cell_type": "markdown",
   "metadata": {},
   "source": [
    "## 10.2 控制模块被全部导入的内容"
   ]
  },
  {
   "cell_type": "code",
   "execution_count": 1,
   "metadata": {
    "collapsed": true
   },
   "outputs": [],
   "source": [
    "from pprint import pprint\n",
    "import sys"
   ]
  },
  {
   "cell_type": "code",
   "execution_count": 2,
   "metadata": {
    "collapsed": false
   },
   "outputs": [
    {
     "name": "stdout",
     "output_type": "stream",
     "text": [
      "['',\n",
      " 'D:\\\\Anaconda3\\\\python35.zip',\n",
      " 'D:\\\\Anaconda3\\\\DLLs',\n",
      " 'D:\\\\Anaconda3\\\\lib',\n",
      " 'D:\\\\Anaconda3',\n",
      " 'D:\\\\Anaconda3\\\\lib\\\\site-packages',\n",
      " 'D:\\\\Anaconda3\\\\lib\\\\site-packages\\\\Sphinx-1.4.6-py3.5.egg',\n",
      " 'D:\\\\Anaconda3\\\\lib\\\\site-packages\\\\win32',\n",
      " 'D:\\\\Anaconda3\\\\lib\\\\site-packages\\\\win32\\\\lib',\n",
      " 'D:\\\\Anaconda3\\\\lib\\\\site-packages\\\\Pythonwin',\n",
      " 'D:\\\\Anaconda3\\\\lib\\\\site-packages\\\\IPython\\\\extensions',\n",
      " 'C:\\\\Users\\\\hadxu\\\\.ipython']\n"
     ]
    }
   ],
   "source": [
    "pprint(sys.path)"
   ]
  },
  {
   "cell_type": "markdown",
   "metadata": {},
   "source": [
    "## 10.15 分发包"
   ]
  },
  {
   "cell_type": "markdown",
   "metadata": {},
   "source": [
    "## 你已经编写了一个有用的库，想将它分享给其他人。"
   ]
  },
  {
   "cell_type": "raw",
   "metadata": {},
   "source": [
    "要让你的包可以发布出去，首先你要编写一个setup.py ，类似下面这样："
   ]
  },
  {
   "cell_type": "raw",
   "metadata": {},
   "source": [
    "from distutils.core import setup\n",
    "setup(\n",
    "    name='gcd_project',\n",
    "    version='1.0',\n",
    "    author='hadxu',\n",
    "    author_email='hadxu@123@gmail.com',\n",
    "    url='www.hadxu.cn',\n",
    "    packages=['gcd_project']\n",
    "\n",
    ")"
   ]
  },
  {
   "cell_type": "raw",
   "metadata": {},
   "source": [
    "下一步，就是创建一个MANIFEST.in 文件，列出所有在你的包中需要包含进来的\n",
    "非源码文件："
   ]
  },
  {
   "cell_type": "raw",
   "metadata": {},
   "source": [
    "# MANIFEST.in\n",
    "include *.txt\n",
    "recursive-include examples *\n",
    "recursive-include Doc *"
   ]
  },
  {
   "cell_type": "raw",
   "metadata": {},
   "source": [
    "确保setup.py 和MANIFEST.in 文件放在你的包的最顶级目录中。一旦你已经做了\n",
    "这些，你就可以像下面这样执行命令来创建一个源码分发包了："
   ]
  },
  {
   "cell_type": "raw",
   "metadata": {},
   "source": [
    "python3 setup.py sdist"
   ]
  },
  {
   "cell_type": "raw",
   "metadata": {},
   "source": [
    "这时候会有一个zip文件，只需要pip 安装就好了。"
   ]
  },
  {
   "cell_type": "code",
   "execution_count": null,
   "metadata": {
    "collapsed": true
   },
   "outputs": [],
   "source": []
  }
 ],
 "metadata": {
  "anaconda-cloud": {},
  "kernelspec": {
   "display_name": "Python [default]",
   "language": "python",
   "name": "python3"
  },
  "language_info": {
   "codemirror_mode": {
    "name": "ipython",
    "version": 3
   },
   "file_extension": ".py",
   "mimetype": "text/x-python",
   "name": "python",
   "nbconvert_exporter": "python",
   "pygments_lexer": "ipython3",
   "version": "3.5.2"
  }
 },
 "nbformat": 4,
 "nbformat_minor": 1
}
